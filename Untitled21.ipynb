{
 "cells": [
  {
   "cell_type": "code",
   "execution_count": 1,
   "id": "d40c2fbb-cbb1-4e77-bce2-e99578e74b1e",
   "metadata": {},
   "outputs": [
    {
     "name": "stdin",
     "output_type": "stream",
     "text": [
      "0 1\n"
     ]
    }
   ],
   "source": [
    " = input(int())"
   ]
  },
  {
   "cell_type": "code",
   "execution_count": 1,
   "id": "9639e1b1-86ed-40e1-b290-91b1a3d3dc04",
   "metadata": {},
   "outputs": [
    {
     "name": "stdin",
     "output_type": "stream",
     "text": [
      "enter the days : 5\n"
     ]
    },
    {
     "name": "stdout",
     "output_type": "stream",
     "text": [
      "5\n"
     ]
    }
   ],
   "source": [
    "a = int(input(\"enter the days :\"))\n",
    "print(a)"
   ]
  },
  {
   "cell_type": "code",
   "execution_count": 3,
   "id": "3dfbaa0e-f315-4a10-9f1e-55a0f8052470",
   "metadata": {},
   "outputs": [
    {
     "ename": "SyntaxError",
     "evalue": "incomplete input (3700924515.py, line 3)",
     "output_type": "error",
     "traceback": [
      "\u001b[1;36m  Cell \u001b[1;32mIn[3], line 3\u001b[1;36m\u001b[0m\n\u001b[1;33m    for i in range(1,a,1):\u001b[0m\n\u001b[1;37m                          ^\u001b[0m\n\u001b[1;31mSyntaxError\u001b[0m\u001b[1;31m:\u001b[0m incomplete input\n"
     ]
    }
   ],
   "source": [
    "a = int(input(\"enter the days :\"))\n",
    "total_sale =0\n",
    "for i in range(1,a,1):"
   ]
  },
  {
   "cell_type": "code",
   "execution_count": null,
   "id": "87def67c-ce78-4b70-9552-eca367dcdbee",
   "metadata": {},
   "outputs": [
    {
     "name": "stdin",
     "output_type": "stream",
     "text": [
      "enter the salary of the day : 1000\n",
      "enter the salary of the day : 1000\n",
      "enter the salary of the day : 1000\n",
      "enter the salary of the day : 1000\n",
      "enter the salary of the day : 1000\n",
      "enter the salary of the day : 1000\n"
     ]
    }
   ],
   "source": [
    "a = int(input(\"enter the no. of days :\"))\n",
    "total_sale =0\n",
    "for i in range(1,a,1):\n",
    "    sale = int(input(\"enter the salary of the day :\"))\n",
    "    total_sale = sale+total_sale\n",
    "\n",
    "print(\"Total Sale :\"+total_sale)   "
   ]
  },
  {
   "cell_type": "code",
   "execution_count": null,
   "id": "8643e04f-4b50-44e2-b95c-ac2aae086b87",
   "metadata": {},
   "outputs": [
    {
     "name": "stdin",
     "output_type": "stream",
     "text": [
      "enter the no. of days : 33\n"
     ]
    }
   ],
   "source": [
    "a = int(input(\"enter the no. of days :\"))\n",
    "total_sale =0\n",
    "for i in range(0,a,1):\n",
    "    sale = int(input(\"enter the salary of the day :\"))\n",
    "    total_sale = sale+total_sale\n",
    "\n",
    "print(\"Total Sale :\")\n",
    "print(total_sale)"
   ]
  },
  {
   "cell_type": "code",
   "execution_count": 25,
   "id": "b023589f-0e53-4151-b975-01de41193446",
   "metadata": {},
   "outputs": [
    {
     "name": "stdin",
     "output_type": "stream",
     "text": [
      "enter the no. of days : 3\n",
      "enter the no. of days : 1000\n",
      "enter the salary of the day : 1000\n",
      "enter the salary of the day : 5000\n",
      "enter the salary of the day : 600\n"
     ]
    },
    {
     "name": "stdout",
     "output_type": "stream",
     "text": [
      "threshold:\n",
      "1000\n",
      "Total Sale :\n",
      "6600\n",
      "Maximum sale is :\n",
      "5000\n",
      "Maximum sale is :\n",
      "600\n",
      "Average sale is :\n",
      "2200.0\n",
      "Number of days with sales above 1000:\n",
      "2\n"
     ]
    }
   ],
   "source": [
    "a = int(input(\"enter the no. of days :\"))\n",
    "total_sale =0\n",
    "s =[]\n",
    "c=0\n",
    "avg = 0\n",
    "threshold=int(input(\"Define threshold :\"))\n",
    "for i in range(0,a,1):\n",
    "    sale = int(input(\"enter the salary of the day :\"))\n",
    "    if sale>=threshold:\n",
    "        c=c+1\n",
    "    s.append(sale)\n",
    "    total_sale = sale+total_sale\n",
    "avg = total_sale/a\n",
    "print(\"threshold:\")\n",
    "print(threshold)\n",
    "print(\"Total Sale :\")\n",
    "print(total_sale)\n",
    "print(\"Maximum sale is :\")\n",
    "print(max(s))\n",
    "print(\"Maximum sale is :\")\n",
    "print(min(s))\n",
    "\n",
    "print(\"Average sale is :\")\n",
    "print(avg)\n",
    "\n",
    "print(\"Number of days with sales above 1000:\")\n",
    "print(c)"
   ]
  },
  {
   "cell_type": "code",
   "execution_count": null,
   "id": "67a1c771-868a-4de5-817d-3db391821348",
   "metadata": {},
   "outputs": [],
   "source": []
  }
 ],
 "metadata": {
  "kernelspec": {
   "display_name": "Python 3 (ipykernel)",
   "language": "python",
   "name": "python3"
  },
  "language_info": {
   "codemirror_mode": {
    "name": "ipython",
    "version": 3
   },
   "file_extension": ".py",
   "mimetype": "text/x-python",
   "name": "python",
   "nbconvert_exporter": "python",
   "pygments_lexer": "ipython3",
   "version": "3.11.5"
  }
 },
 "nbformat": 4,
 "nbformat_minor": 5
}
